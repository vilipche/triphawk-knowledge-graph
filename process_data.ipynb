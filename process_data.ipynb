{
 "cells": [
  {
   "cell_type": "code",
   "execution_count": 1,
   "metadata": {},
   "outputs": [],
   "source": [
    "import pandas as pd"
   ]
  },
  {
   "cell_type": "code",
   "execution_count": 2,
   "metadata": {},
   "outputs": [],
   "source": [
    "pd.set_option('display.max_columns', None)"
   ]
  },
  {
   "cell_type": "code",
   "execution_count": 3,
   "metadata": {},
   "outputs": [],
   "source": [
    "# http://www.bcn.cat/tercerlloc/files/restaurants/opendatabcn_restaurants_restaurants-csv.csv\n",
    "restaurants = pd.read_csv('/home/filip/Documents/UPC/SDM/Project/triphawk-knowledge-graph/data/restaurants.csv')\n",
    "# http://www.bcn.cat/tercerlloc/files/opendatabcn_agenda-csv.csv\n",
    "agenda = pd.read_csv('/home/filip/Documents/UPC/SDM/Project/triphawk-knowledge-graph/data/agenda.csv')"
   ]
  },
  {
   "cell_type": "markdown",
   "metadata": {},
   "source": [
    "# Agenda"
   ]
  },
  {
   "cell_type": "code",
   "execution_count": 4,
   "metadata": {},
   "outputs": [
    {
     "data": {
      "text/html": [
       "<div>\n",
       "<style scoped>\n",
       "    .dataframe tbody tr th:only-of-type {\n",
       "        vertical-align: middle;\n",
       "    }\n",
       "\n",
       "    .dataframe tbody tr th {\n",
       "        vertical-align: top;\n",
       "    }\n",
       "\n",
       "    .dataframe thead th {\n",
       "        text-align: right;\n",
       "    }\n",
       "</style>\n",
       "<table border=\"1\" class=\"dataframe\">\n",
       "  <thead>\n",
       "    <tr style=\"text-align: right;\">\n",
       "      <th></th>\n",
       "      <th>event_id</th>\n",
       "      <th>name</th>\n",
       "      <th>date</th>\n",
       "      <th>address</th>\n",
       "      <th>neighborhood</th>\n",
       "      <th>lat</th>\n",
       "      <th>lon</th>\n",
       "    </tr>\n",
       "  </thead>\n",
       "  <tbody>\n",
       "    <tr>\n",
       "      <th>1</th>\n",
       "      <td>﻿144170134</td>\n",
       "      <td>Visita al Pailebot Santa Eulàlia al Moll de la...</td>\n",
       "      <td>2021-11-15T17:33:46.347033+01:00</td>\n",
       "      <td>Moll Bosch i Alsina</td>\n",
       "      <td>el Barri Gòtic</td>\n",
       "      <td>41.379108</td>\n",
       "      <td>2.181910</td>\n",
       "    </tr>\n",
       "    <tr>\n",
       "      <th>2</th>\n",
       "      <td>﻿99400579929</td>\n",
       "      <td>Casal d'estiu 'El mite d'Arkadios' per a infan...</td>\n",
       "      <td>2022-03-16T10:25:09.504265+01:00</td>\n",
       "      <td>Av Diagonal</td>\n",
       "      <td>el Fort Pienc</td>\n",
       "      <td>41.400891</td>\n",
       "      <td>2.177801</td>\n",
       "    </tr>\n",
       "    <tr>\n",
       "      <th>3</th>\n",
       "      <td>﻿99400580001</td>\n",
       "      <td>Campus Olímpia Específic de 'Pàdel amb piscina...</td>\n",
       "      <td>2022-04-22T10:47:17.340816+02:00</td>\n",
       "      <td>C Muntadas</td>\n",
       "      <td>Hostafrancs</td>\n",
       "      <td>41.376711</td>\n",
       "      <td>2.142398</td>\n",
       "    </tr>\n",
       "    <tr>\n",
       "      <th>4</th>\n",
       "      <td>﻿99400580179</td>\n",
       "      <td>Casal d'estiu 'Deixem petjada' per a infants i...</td>\n",
       "      <td>2022-03-28T11:10:29.715263+02:00</td>\n",
       "      <td>Rbla Badal</td>\n",
       "      <td>la Bordeta</td>\n",
       "      <td>41.371060</td>\n",
       "      <td>2.131944</td>\n",
       "    </tr>\n",
       "    <tr>\n",
       "      <th>5</th>\n",
       "      <td>﻿99400580319</td>\n",
       "      <td>Precampus Olímpia per a infants de 3 a 5 anys ...</td>\n",
       "      <td>2022-04-20T09:58:57.430273+02:00</td>\n",
       "      <td>C Sant Oleguer</td>\n",
       "      <td>el Raval</td>\n",
       "      <td>41.377311</td>\n",
       "      <td>2.170880</td>\n",
       "    </tr>\n",
       "  </tbody>\n",
       "</table>\n",
       "</div>"
      ],
      "text/plain": [
       "       event_id                                               name  \\\n",
       "1    ﻿144170134  Visita al Pailebot Santa Eulàlia al Moll de la...   \n",
       "2  ﻿99400579929  Casal d'estiu 'El mite d'Arkadios' per a infan...   \n",
       "3  ﻿99400580001  Campus Olímpia Específic de 'Pàdel amb piscina...   \n",
       "4  ﻿99400580179  Casal d'estiu 'Deixem petjada' per a infants i...   \n",
       "5  ﻿99400580319  Precampus Olímpia per a infants de 3 a 5 anys ...   \n",
       "\n",
       "                               date              address    neighborhood  \\\n",
       "1  2021-11-15T17:33:46.347033+01:00  Moll Bosch i Alsina  el Barri Gòtic   \n",
       "2  2022-03-16T10:25:09.504265+01:00          Av Diagonal   el Fort Pienc   \n",
       "3  2022-04-22T10:47:17.340816+02:00           C Muntadas     Hostafrancs   \n",
       "4  2022-03-28T11:10:29.715263+02:00           Rbla Badal      la Bordeta   \n",
       "5  2022-04-20T09:58:57.430273+02:00       C Sant Oleguer        el Raval   \n",
       "\n",
       "         lat       lon  \n",
       "1  41.379108  2.181910  \n",
       "2  41.400891  2.177801  \n",
       "3  41.376711  2.142398  \n",
       "4  41.371060  2.131944  \n",
       "5  41.377311  2.170880  "
      ]
     },
     "execution_count": 4,
     "metadata": {},
     "output_type": "execute_result"
    }
   ],
   "source": [
    "agenda = agenda[['register_id', 'name', 'modified', 'addresses_road_name', 'addresses_neighborhood_name', 'geo_epgs_4326_x', 'geo_epgs_4326_y']]\n",
    "agenda = agenda.dropna()\n",
    "agenda.rename(columns={'register_id': 'event_id', 'modified': 'date', 'addresses_road_name': 'address', 'addresses_neighborhood_name': 'neighborhood', 'geo_epgs_4326_x': 'lat', 'geo_epgs_4326_y': 'lon' }, inplace=True)\n",
    "agenda.head()"
   ]
  },
  {
   "cell_type": "markdown",
   "metadata": {},
   "source": [
    "# Restaurants"
   ]
  },
  {
   "cell_type": "code",
   "execution_count": 5,
   "metadata": {},
   "outputs": [
    {
     "data": {
      "text/html": [
       "<div>\n",
       "<style scoped>\n",
       "    .dataframe tbody tr th:only-of-type {\n",
       "        vertical-align: middle;\n",
       "    }\n",
       "\n",
       "    .dataframe tbody tr th {\n",
       "        vertical-align: top;\n",
       "    }\n",
       "\n",
       "    .dataframe thead th {\n",
       "        text-align: right;\n",
       "    }\n",
       "</style>\n",
       "<table border=\"1\" class=\"dataframe\">\n",
       "  <thead>\n",
       "    <tr style=\"text-align: right;\">\n",
       "      <th></th>\n",
       "      <th>restaurant_id</th>\n",
       "      <th>name</th>\n",
       "      <th>address</th>\n",
       "      <th>neighborhood</th>\n",
       "      <th>lat</th>\n",
       "      <th>lon</th>\n",
       "    </tr>\n",
       "  </thead>\n",
       "  <tbody>\n",
       "    <tr>\n",
       "      <th>0</th>\n",
       "      <td>﻿75990013952</td>\n",
       "      <td>Bar Restaurant Paco Alcalde</td>\n",
       "      <td>Carrer d'Emília Llorca Martín</td>\n",
       "      <td>la Barceloneta</td>\n",
       "      <td>41.377351</td>\n",
       "      <td>2.189766</td>\n",
       "    </tr>\n",
       "    <tr>\n",
       "      <th>1</th>\n",
       "      <td>﻿93057142057</td>\n",
       "      <td>Restaurant Rebost de la Plana</td>\n",
       "      <td>Pl Trilla</td>\n",
       "      <td>la Vila de Gràcia</td>\n",
       "      <td>41.403591</td>\n",
       "      <td>2.152498</td>\n",
       "    </tr>\n",
       "    <tr>\n",
       "      <th>2</th>\n",
       "      <td>﻿1271120255</td>\n",
       "      <td>Restaurant Coure</td>\n",
       "      <td>Ptge Marimon</td>\n",
       "      <td>Sant Gervasi - Galvany</td>\n",
       "      <td>41.394434</td>\n",
       "      <td>2.147899</td>\n",
       "    </tr>\n",
       "    <tr>\n",
       "      <th>3</th>\n",
       "      <td>﻿75990002937</td>\n",
       "      <td>Bar Restaurant A Canteira</td>\n",
       "      <td>Pg Sant Joan</td>\n",
       "      <td>el Camp d'en Grassot i Gràcia Nova</td>\n",
       "      <td>41.402235</td>\n",
       "      <td>2.165437</td>\n",
       "    </tr>\n",
       "    <tr>\n",
       "      <th>4</th>\n",
       "      <td>﻿168094730</td>\n",
       "      <td>Cerveseria Restaurant El Fraile *La Maquinista</td>\n",
       "      <td>Pg Potosí</td>\n",
       "      <td>el Bon Pastor</td>\n",
       "      <td>41.442562</td>\n",
       "      <td>2.198370</td>\n",
       "    </tr>\n",
       "  </tbody>\n",
       "</table>\n",
       "</div>"
      ],
      "text/plain": [
       "  restaurant_id                                            name  \\\n",
       "0  ﻿75990013952                     Bar Restaurant Paco Alcalde   \n",
       "1  ﻿93057142057                   Restaurant Rebost de la Plana   \n",
       "2   ﻿1271120255                                Restaurant Coure   \n",
       "3  ﻿75990002937                       Bar Restaurant A Canteira   \n",
       "4    ﻿168094730  Cerveseria Restaurant El Fraile *La Maquinista   \n",
       "\n",
       "                         address                        neighborhood  \\\n",
       "0  Carrer d'Emília Llorca Martín                      la Barceloneta   \n",
       "1                      Pl Trilla                   la Vila de Gràcia   \n",
       "2                   Ptge Marimon              Sant Gervasi - Galvany   \n",
       "3                   Pg Sant Joan  el Camp d'en Grassot i Gràcia Nova   \n",
       "4                      Pg Potosí                       el Bon Pastor   \n",
       "\n",
       "         lat       lon  \n",
       "0  41.377351  2.189766  \n",
       "1  41.403591  2.152498  \n",
       "2  41.394434  2.147899  \n",
       "3  41.402235  2.165437  \n",
       "4  41.442562  2.198370  "
      ]
     },
     "execution_count": 5,
     "metadata": {},
     "output_type": "execute_result"
    }
   ],
   "source": [
    "restaurants = restaurants[['register_id', 'name', 'addresses_road_name', 'addresses_neighborhood_name', 'geo_epgs_4326_x', 'geo_epgs_4326_y']]\n",
    "restaurants = restaurants.dropna()\n",
    "restaurants.rename(columns={'register_id': 'restaurant_id', 'addresses_road_name': 'address', 'addresses_neighborhood_name': 'neighborhood', 'geo_epgs_4326_x': 'lat', 'geo_epgs_4326_y': 'lon' }, inplace=True)\n",
    "restaurants.head()"
   ]
  },
  {
   "cell_type": "markdown",
   "metadata": {},
   "source": [
    "# Neighborhoods"
   ]
  },
  {
   "cell_type": "code",
   "execution_count": 7,
   "metadata": {},
   "outputs": [],
   "source": [
    "nb1 = set(agenda.neighborhood)\n",
    "nb2 = set(restaurants.neighborhood)\n",
    "nbh_names = nb1.union(nb2)\n"
   ]
  },
  {
   "cell_type": "code",
   "execution_count": 8,
   "metadata": {},
   "outputs": [
    {
     "data": {
      "text/html": [
       "<div>\n",
       "<style scoped>\n",
       "    .dataframe tbody tr th:only-of-type {\n",
       "        vertical-align: middle;\n",
       "    }\n",
       "\n",
       "    .dataframe tbody tr th {\n",
       "        vertical-align: top;\n",
       "    }\n",
       "\n",
       "    .dataframe thead th {\n",
       "        text-align: right;\n",
       "    }\n",
       "</style>\n",
       "<table border=\"1\" class=\"dataframe\">\n",
       "  <thead>\n",
       "    <tr style=\"text-align: right;\">\n",
       "      <th></th>\n",
       "      <th>neighborhood</th>\n",
       "      <th>nbh_id</th>\n",
       "    </tr>\n",
       "  </thead>\n",
       "  <tbody>\n",
       "    <tr>\n",
       "      <th>0</th>\n",
       "      <td>el Besòs i el Maresme</td>\n",
       "      <td>1</td>\n",
       "    </tr>\n",
       "    <tr>\n",
       "      <th>1</th>\n",
       "      <td>les Roquetes</td>\n",
       "      <td>2</td>\n",
       "    </tr>\n",
       "    <tr>\n",
       "      <th>2</th>\n",
       "      <td>el Guinardó</td>\n",
       "      <td>3</td>\n",
       "    </tr>\n",
       "    <tr>\n",
       "      <th>3</th>\n",
       "      <td>el Putxet i el Farró</td>\n",
       "      <td>4</td>\n",
       "    </tr>\n",
       "    <tr>\n",
       "      <th>4</th>\n",
       "      <td>la Prosperitat</td>\n",
       "      <td>5</td>\n",
       "    </tr>\n",
       "  </tbody>\n",
       "</table>\n",
       "</div>"
      ],
      "text/plain": [
       "            neighborhood  nbh_id\n",
       "0  el Besòs i el Maresme       1\n",
       "1           les Roquetes       2\n",
       "2            el Guinardó       3\n",
       "3   el Putxet i el Farró       4\n",
       "4         la Prosperitat       5"
      ]
     },
     "execution_count": 8,
     "metadata": {},
     "output_type": "execute_result"
    }
   ],
   "source": [
    "id = [i+1 for i in range(len(nbh_names))]\n",
    "d = {'neighborhood': list(nbh_names), 'nbh_id': id}\n",
    "neighborhoods = pd.DataFrame(data=d)\n",
    "neighborhoods.head()\n"
   ]
  },
  {
   "cell_type": "markdown",
   "metadata": {},
   "source": [
    "# Relations"
   ]
  },
  {
   "cell_type": "code",
   "execution_count": 9,
   "metadata": {},
   "outputs": [],
   "source": [
    "agenda_nbh = agenda.merge(neighborhoods, on='neighborhood')\n",
    "agenda_nbh = agenda_nbh[['event_id', 'nbh_id']]"
   ]
  },
  {
   "cell_type": "code",
   "execution_count": 10,
   "metadata": {},
   "outputs": [
    {
     "data": {
      "text/html": [
       "<div>\n",
       "<style scoped>\n",
       "    .dataframe tbody tr th:only-of-type {\n",
       "        vertical-align: middle;\n",
       "    }\n",
       "\n",
       "    .dataframe tbody tr th {\n",
       "        vertical-align: top;\n",
       "    }\n",
       "\n",
       "    .dataframe thead th {\n",
       "        text-align: right;\n",
       "    }\n",
       "</style>\n",
       "<table border=\"1\" class=\"dataframe\">\n",
       "  <thead>\n",
       "    <tr style=\"text-align: right;\">\n",
       "      <th></th>\n",
       "      <th>event_id</th>\n",
       "      <th>nbh_id</th>\n",
       "    </tr>\n",
       "  </thead>\n",
       "  <tbody>\n",
       "    <tr>\n",
       "      <th>0</th>\n",
       "      <td>﻿144170134</td>\n",
       "      <td>56</td>\n",
       "    </tr>\n",
       "    <tr>\n",
       "      <th>1</th>\n",
       "      <td>﻿1344102524</td>\n",
       "      <td>56</td>\n",
       "    </tr>\n",
       "    <tr>\n",
       "      <th>2</th>\n",
       "      <td>﻿2025121918</td>\n",
       "      <td>56</td>\n",
       "    </tr>\n",
       "    <tr>\n",
       "      <th>3</th>\n",
       "      <td>﻿99400612771</td>\n",
       "      <td>56</td>\n",
       "    </tr>\n",
       "    <tr>\n",
       "      <th>4</th>\n",
       "      <td>﻿99400655138</td>\n",
       "      <td>56</td>\n",
       "    </tr>\n",
       "    <tr>\n",
       "      <th>...</th>\n",
       "      <td>...</td>\n",
       "      <td>...</td>\n",
       "    </tr>\n",
       "    <tr>\n",
       "      <th>3076</th>\n",
       "      <td>﻿99400691157</td>\n",
       "      <td>8</td>\n",
       "    </tr>\n",
       "    <tr>\n",
       "      <th>3077</th>\n",
       "      <td>﻿99400692668</td>\n",
       "      <td>8</td>\n",
       "    </tr>\n",
       "    <tr>\n",
       "      <th>3078</th>\n",
       "      <td>﻿99400692675</td>\n",
       "      <td>8</td>\n",
       "    </tr>\n",
       "    <tr>\n",
       "      <th>3079</th>\n",
       "      <td>﻿99400688353</td>\n",
       "      <td>71</td>\n",
       "    </tr>\n",
       "    <tr>\n",
       "      <th>3080</th>\n",
       "      <td>﻿99400689098</td>\n",
       "      <td>71</td>\n",
       "    </tr>\n",
       "  </tbody>\n",
       "</table>\n",
       "<p>3081 rows × 2 columns</p>\n",
       "</div>"
      ],
      "text/plain": [
       "          event_id  nbh_id\n",
       "0       ﻿144170134      56\n",
       "1      ﻿1344102524      56\n",
       "2      ﻿2025121918      56\n",
       "3     ﻿99400612771      56\n",
       "4     ﻿99400655138      56\n",
       "...            ...     ...\n",
       "3076  ﻿99400691157       8\n",
       "3077  ﻿99400692668       8\n",
       "3078  ﻿99400692675       8\n",
       "3079  ﻿99400688353      71\n",
       "3080  ﻿99400689098      71\n",
       "\n",
       "[3081 rows x 2 columns]"
      ]
     },
     "execution_count": 10,
     "metadata": {},
     "output_type": "execute_result"
    }
   ],
   "source": [
    "agenda_nbh"
   ]
  },
  {
   "cell_type": "code",
   "execution_count": 11,
   "metadata": {},
   "outputs": [],
   "source": [
    "resto_nbh = restaurants.merge(neighborhoods, on='neighborhood')\n",
    "resto_nbh = resto_nbh[['restaurant_id', 'nbh_id']]"
   ]
  },
  {
   "cell_type": "markdown",
   "metadata": {},
   "source": [
    "# neo4j-import column names"
   ]
  },
  {
   "cell_type": "code",
   "execution_count": 13,
   "metadata": {},
   "outputs": [
    {
     "name": "stderr",
     "output_type": "stream",
     "text": [
      "/tmp/ipykernel_46783/1718831302.py:1: FutureWarning: In a future version of pandas all arguments of DataFrame.drop except for the argument 'labels' will be keyword-only.\n",
      "  agenda = agenda.drop('neighborhood', 1)\n",
      "/tmp/ipykernel_46783/1718831302.py:2: FutureWarning: In a future version of pandas all arguments of DataFrame.drop except for the argument 'labels' will be keyword-only.\n",
      "  restaurants = restaurants.drop('neighborhood', 1)\n"
     ]
    }
   ],
   "source": [
    "agenda = agenda.drop('neighborhood', 1)\n",
    "restaurants = restaurants.drop('neighborhood', 1)"
   ]
  },
  {
   "cell_type": "code",
   "execution_count": 14,
   "metadata": {},
   "outputs": [],
   "source": [
    "agenda.rename(columns={'event_id': 'event_id:ID(Event)'}, inplace=True)"
   ]
  },
  {
   "cell_type": "code",
   "execution_count": 15,
   "metadata": {},
   "outputs": [],
   "source": [
    "neighborhoods.rename(columns={'nbh_id': 'nbh_id:ID(Neighborhood)'}, inplace=True)"
   ]
  },
  {
   "cell_type": "code",
   "execution_count": 16,
   "metadata": {},
   "outputs": [],
   "source": [
    "restaurants.rename(columns={'restaurant_id': 'restaurant_id:ID(Restaurant)'}, inplace=True)"
   ]
  },
  {
   "cell_type": "code",
   "execution_count": 17,
   "metadata": {},
   "outputs": [],
   "source": [
    "resto_nbh.rename(columns={'restaurant_id': 'restaurant_id:START_ID(Restaurant)', 'nbh_id': 'nbh_id:END_ID(Neighborhood)'}, inplace=True)"
   ]
  },
  {
   "cell_type": "code",
   "execution_count": 18,
   "metadata": {},
   "outputs": [],
   "source": [
    "agenda_nbh.rename(columns={'event_id': 'event_id:START_ID(Event)', 'nbh_id': 'nbh_id:END_ID(Neighborhood)'}, inplace=True)"
   ]
  },
  {
   "cell_type": "code",
   "execution_count": null,
   "metadata": {},
   "outputs": [],
   "source": [
    "agenda.date = pd.to_datetime(agenda.date.apply(lambda x: x.split('T')[0]))"
   ]
  },
  {
   "cell_type": "markdown",
   "metadata": {},
   "source": [
    "# TO_CSV"
   ]
  },
  {
   "cell_type": "code",
   "execution_count": 82,
   "metadata": {},
   "outputs": [],
   "source": [
    "agenda.to_csv('./data/generated/event.csv', index=False)\n",
    "restaurants.to_csv('./data/generated/restaurants.csv', index=False)\n",
    "neighborhoods.to_csv('./data/generated/neighborhood.csv', index=False)\n",
    "resto_nbh.to_csv('./data/generated/resto_nbh.csv', index=False)\n",
    "agenda_nbh.to_csv('./data/generated/event_nbh.csv', index=False)\n"
   ]
  }
 ],
 "metadata": {
  "kernelspec": {
   "display_name": "Python 3.6.8 64-bit",
   "language": "python",
   "name": "python3"
  },
  "language_info": {
   "codemirror_mode": {
    "name": "ipython",
    "version": 3
   },
   "file_extension": ".py",
   "mimetype": "text/x-python",
   "name": "python",
   "nbconvert_exporter": "python",
   "pygments_lexer": "ipython3",
   "version": "3.8.10"
  },
  "orig_nbformat": 4,
  "vscode": {
   "interpreter": {
    "hash": "31f2aee4e71d21fbe5cf8b01ff0e069b9275f58929596ceb00d14d90e3e16cd6"
   }
  }
 },
 "nbformat": 4,
 "nbformat_minor": 2
}
